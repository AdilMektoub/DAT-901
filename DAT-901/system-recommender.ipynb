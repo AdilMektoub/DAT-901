{
 "cells": [
  {
   "cell_type": "code",
   "execution_count": 5,
   "metadata": {},
   "outputs": [
    {
     "ename": "ImportError",
     "evalue": "Dask dataframe requirements are not installed.\n\nPlease either conda or pip install as follows:\n\n  conda install dask                     # either conda install\n  python -m pip install \"dask[dataframe]\" --upgrade  # or python -m pip install",
     "output_type": "error",
     "traceback": [
      "\u001b[0;31m---------------------------------------------------------------------------\u001b[0m",
      "\u001b[0;31mModuleNotFoundError\u001b[0m                       Traceback (most recent call last)",
      "\u001b[0;32m~/.local/lib/python3.8/site-packages/dask/dataframe/__init__.py\u001b[0m in \u001b[0;36m<module>\u001b[0;34m\u001b[0m\n\u001b[1;32m      2\u001b[0m     \u001b[0;32mfrom\u001b[0m \u001b[0;34m.\u001b[0m\u001b[0;34m.\u001b[0m\u001b[0mbase\u001b[0m \u001b[0;32mimport\u001b[0m \u001b[0mcompute\u001b[0m\u001b[0;34m\u001b[0m\u001b[0;34m\u001b[0m\u001b[0m\n\u001b[0;32m----> 3\u001b[0;31m     \u001b[0;32mfrom\u001b[0m \u001b[0;34m.\u001b[0m \u001b[0;32mimport\u001b[0m \u001b[0mbackends\u001b[0m\u001b[0;34m,\u001b[0m \u001b[0mdispatch\u001b[0m\u001b[0;34m,\u001b[0m \u001b[0mrolling\u001b[0m\u001b[0;34m\u001b[0m\u001b[0;34m\u001b[0m\u001b[0m\n\u001b[0m\u001b[1;32m      4\u001b[0m     from .core import (\n",
      "\u001b[0;32m~/.local/lib/python3.8/site-packages/dask/dataframe/backends.py\u001b[0m in \u001b[0;36m<module>\u001b[0;34m\u001b[0m\n\u001b[1;32m      2\u001b[0m \u001b[0;34m\u001b[0m\u001b[0m\n\u001b[0;32m----> 3\u001b[0;31m \u001b[0;32mimport\u001b[0m \u001b[0mnumpy\u001b[0m \u001b[0;32mas\u001b[0m \u001b[0mnp\u001b[0m\u001b[0;34m\u001b[0m\u001b[0;34m\u001b[0m\u001b[0m\n\u001b[0m\u001b[1;32m      4\u001b[0m \u001b[0;32mimport\u001b[0m \u001b[0mpandas\u001b[0m \u001b[0;32mas\u001b[0m \u001b[0mpd\u001b[0m\u001b[0;34m\u001b[0m\u001b[0;34m\u001b[0m\u001b[0m\n",
      "\u001b[0;31mModuleNotFoundError\u001b[0m: No module named 'numpy'",
      "\nThe above exception was the direct cause of the following exception:\n",
      "\u001b[0;31mImportError\u001b[0m                               Traceback (most recent call last)",
      "\u001b[0;32m/tmp/ipykernel_6804/3286058935.py\u001b[0m in \u001b[0;36m<module>\u001b[0;34m\u001b[0m\n\u001b[0;32m----> 1\u001b[0;31m \u001b[0;32mimport\u001b[0m \u001b[0mdask\u001b[0m\u001b[0;34m.\u001b[0m\u001b[0mdataframe\u001b[0m \u001b[0;32mas\u001b[0m \u001b[0mdd\u001b[0m\u001b[0;34m\u001b[0m\u001b[0;34m\u001b[0m\u001b[0m\n\u001b[0m\u001b[1;32m      2\u001b[0m \u001b[0;32mimport\u001b[0m \u001b[0mplotly\u001b[0m\u001b[0;34m\u001b[0m\u001b[0;34m\u001b[0m\u001b[0m\n\u001b[1;32m      3\u001b[0m \u001b[0;32mimport\u001b[0m \u001b[0mimportlib\u001b[0m\u001b[0;34m\u001b[0m\u001b[0;34m\u001b[0m\u001b[0m\n\u001b[1;32m      4\u001b[0m \u001b[0;32mimport\u001b[0m \u001b[0mnumpy\u001b[0m \u001b[0;32mas\u001b[0m \u001b[0mnp\u001b[0m\u001b[0;34m\u001b[0m\u001b[0;34m\u001b[0m\u001b[0m\n\u001b[1;32m      5\u001b[0m \u001b[0;34m\u001b[0m\u001b[0m\n",
      "\u001b[0;32m~/.local/lib/python3.8/site-packages/dask/dataframe/__init__.py\u001b[0m in \u001b[0;36m<module>\u001b[0;34m\u001b[0m\n\u001b[1;32m     58\u001b[0m         \u001b[0;34m'  python -m pip install \"dask[dataframe]\" --upgrade  # or python -m pip install'\u001b[0m\u001b[0;34m\u001b[0m\u001b[0;34m\u001b[0m\u001b[0m\n\u001b[1;32m     59\u001b[0m     )\n\u001b[0;32m---> 60\u001b[0;31m     \u001b[0;32mraise\u001b[0m \u001b[0mImportError\u001b[0m\u001b[0;34m(\u001b[0m\u001b[0mmsg\u001b[0m\u001b[0;34m)\u001b[0m \u001b[0;32mfrom\u001b[0m \u001b[0me\u001b[0m\u001b[0;34m\u001b[0m\u001b[0;34m\u001b[0m\u001b[0m\n\u001b[0m",
      "\u001b[0;31mImportError\u001b[0m: Dask dataframe requirements are not installed.\n\nPlease either conda or pip install as follows:\n\n  conda install dask                     # either conda install\n  python -m pip install \"dask[dataframe]\" --upgrade  # or python -m pip install"
     ]
    }
   ],
   "source": [
    "import dask.dataframe as dd\n",
    "import plotly\n",
    "import importlib\n",
    "import numpy as np\n",
    "\n",
    "import plotly.graph_objects as go\n",
    "import plotly.express as px\n",
    "from plotly.subplots import make_subplots"
   ]
  },
  {
   "cell_type": "code",
   "execution_count": 6,
   "metadata": {},
   "outputs": [],
   "source": [
    "# There are basically three types of recommender systems:\n",
    "\n",
    "#\t- General Filtering: they offer generalized recommendation to every user, based on product popularity. The system recommends the same product to\n",
    "#\tusers. Since each user is different, this approach is considered to be too simple. The basic idea behind this system is that product that are more\n",
    "#\tpopular will have a higler probability of being purchase by the average consumers.\n",
    "#\t- Item Filtering: They suggest similar items based on a particular item. This system users item metadata, such as price, family or univers. The general idea\n",
    "#\tbehing these recommender systems is that if a person liked a particular item, he or she will also like an item that is similar tom it.\n",
    "#\t- User Filtering: This system matches persons with similar interests and provides recommendation based on this matching. User filters don't require\n",
    "#\titem metadata like its content-based counterparts."
   ]
  },
  {
   "cell_type": "code",
   "execution_count": 8,
   "metadata": {},
   "outputs": [],
   "source": [
    "# EDA"
   ]
  },
  {
   "cell_type": "code",
   "execution_count": 9,
   "metadata": {},
   "outputs": [
    {
     "ename": "SyntaxError",
     "evalue": "EOL while scanning string literal (157866483.py, line 2)",
     "output_type": "error",
     "traceback": [
      "\u001b[0;36m  File \u001b[0;32m\"/tmp/ipykernel_6804/157866483.py\"\u001b[0;36m, line \u001b[0;32m2\u001b[0m\n\u001b[0;31m    data = dd.read_csv('Cosmetics_recommandations.csv\u001b[0m\n\u001b[0m                                                     ^\u001b[0m\n\u001b[0;31mSyntaxError\u001b[0m\u001b[0;31m:\u001b[0m EOL while scanning string literal\n"
     ]
    }
   ],
   "source": [
    "data = dd.read_csv('Cosmetics_recommandations.csv\n",
    "data.columns"
   ]
  },
  {
   "cell_type": "code",
   "execution_count": 10,
   "metadata": {},
   "outputs": [
    {
     "ename": "SyntaxError",
     "evalue": "EOL while scanning string literal (3128980819.py, line 1)",
     "output_type": "error",
     "traceback": [
      "\u001b[0;36m  File \u001b[0;32m\"/tmp/ipykernel_6804/3128980819.py\"\u001b[0;36m, line \u001b[0;32m1\u001b[0m\n\u001b[0;31m    data[['MOIS_VENTE','PRIX_NET]].describe().compute()\u001b[0m\n\u001b[0m                                                       ^\u001b[0m\n\u001b[0;31mSyntaxError\u001b[0m\u001b[0;31m:\u001b[0m EOL while scanning string literal\n"
     ]
    }
   ],
   "source": [
    "data[['MOIS_VENTE','PRIX_NET]].describe().compute()"
   ]
  },
  {
   "cell_type": "code",
   "execution_count": 12,
   "metadata": {},
   "outputs": [
    {
     "ename": "SyntaxError",
     "evalue": "invalid syntax (617219700.py, line 1)",
     "output_type": "error",
     "traceback": [
      "\u001b[0;36m  File \u001b[0;32m\"/tmp/ipykernel_6804/617219700.py\"\u001b[0;36m, line \u001b[0;32m1\u001b[0m\n\u001b[0;31m    Biggest month in term of number of sales\u001b[0m\n\u001b[0m            ^\u001b[0m\n\u001b[0;31mSyntaxError\u001b[0m\u001b[0;31m:\u001b[0m invalid syntax\n"
     ]
    }
   ],
   "source": [
    "# Biggest month in term of number of sales\n",
    "def plot_bar_sales(title, distribution_months, col_to_plot='TICKET_ID, label='number of sales'):\n",
    "\n",
    "\tdistribution_months.loc[:, f'(col_to_plot)_perc'] = (distribution_months[col_to_plot] / distribution_months.groupby('MOIS_VENTE')  ##\n",
    "\tdistribution_months.loc[:, f'(col_to_plot)_perc_tot'] = (distribution_months[col_to_plot] / distribution_months.sub  ##\n",
    "\t\n",
    "\tfig = go.Figure()\n",
    "\t\n",
    "\tfor famille in distribution_months.FAMILLE.unique():\n",
    "\t\td = distribution_months.query(f'FAMILLE==\"{famille}\"')\n",
    "\t\tfig.add_trace(go.Bar(x=d.MOIS_VENTE, y=d[f'{col_to_plot}_perc_tot'], name=famille, text=d[f'{col_to_plot}'], customdata=np.  ##\n",
    "\t\t\t\ttextposition='auto'\n",
    "\t\t\t\ttexttemplate=\"%{customdata[1]} %\",\n",
    "\t\t\t\thovertemplate=\"<br>\".join9([\n",
    "\t\t\t\tf\"{label}\" + \":\n",
    "\t\t\t\tf\"{label}\" + \" in the mount: %{customdata[1]},\n",
    "\t\t\t\tf\"{label}\" + \" compared to total sales: %{y} %\"\n",
    "\t\t\t]), legendgroups=\"bar graph\"))\n",
    "\t# Customize aspect\n",
    "\tfig.update_traces(marker_line_color='rgb(8,48,107)',\n",
    "\t\t\t\t\tmaker_line_width=1.5)\n",
    "\tfig.update_layout(title_text=f'{label} over month per family', title_font_family='monospace')\n",
    "\tfig.update_layout(barmode='stack')\n",
    "\t\n",
    "\tfig.update_layout(\n",
    "\t\tupdatemenus=[\n",
    "\t\t\tdict(\n",
    "\t\t\t\tactive=1\n",
    "\t\t\t\tbuttons=list([\n",
    "\t\t\t\t\tdict(label=\"% in year\",\n",
    "\t\t\t\t\t\targs=[{\"texttemplate\":\"%{y} %\"}],\n",
    "\t\t\t\t\t\tmethod=\"update\"),\n",
    "\t\t\t\t\tdict(label=\"% in mouth\",\n",
    "\t\t\t\t\t\targs=[{\"texttemplate\":\"%{customdata[1]} %}],\n",
    "\t\t\t\t\t\tmethod=\"update\"),\n",
    "\t\t\t\t}),\n",
    "\t\t\t)"
   ]
  }
 ],
 "metadata": {
  "interpreter": {
   "hash": "916dbcbb3f70747c44a77c7bcd40155683ae19c65e1c03b4aa3499c5328201f1"
  },
  "kernelspec": {
   "display_name": "Python 3.8.10 64-bit",
   "language": "python",
   "name": "python3"
  },
  "language_info": {
   "codemirror_mode": {
    "name": "ipython",
    "version": 3
   },
   "file_extension": ".py",
   "mimetype": "text/x-python",
   "name": "python",
   "nbconvert_exporter": "python",
   "pygments_lexer": "ipython3",
   "version": "3.8.10"
  },
  "orig_nbformat": 4
 },
 "nbformat": 4,
 "nbformat_minor": 2
}
